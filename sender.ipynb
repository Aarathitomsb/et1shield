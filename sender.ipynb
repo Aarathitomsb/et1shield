{
 "cells": [
  {
   "cell_type": "code",
   "execution_count": 2,
   "id": "1df7aa17",
   "metadata": {},
   "outputs": [
    {
     "ename": "KeyboardInterrupt",
     "evalue": "",
     "output_type": "error",
     "traceback": [
      "\u001b[1;31m---------------------------------------------------------------------------\u001b[0m",
      "\u001b[1;31mKeyboardInterrupt\u001b[0m                         Traceback (most recent call last)",
      "Cell \u001b[1;32mIn[2], line 15\u001b[0m\n\u001b[0;32m     11\u001b[0m message \u001b[38;5;241m=\u001b[39m \u001b[38;5;124m'\u001b[39m\u001b[38;5;124mHello, Notebook 5!\u001b[39m\u001b[38;5;124m'\u001b[39m\n\u001b[0;32m     13\u001b[0m \u001b[38;5;28;01mwhile\u001b[39;00m \u001b[38;5;28;01mTrue\u001b[39;00m:\n\u001b[0;32m     14\u001b[0m \u001b[38;5;66;03m# Send the message to the recipient\u001b[39;00m\n\u001b[1;32m---> 15\u001b[0m     sender_socket\u001b[38;5;241m.\u001b[39msendto(message\u001b[38;5;241m.\u001b[39mencode(), (recipient_ip, recipient_port))\n\u001b[0;32m     17\u001b[0m \u001b[38;5;66;03m# Close the socket\u001b[39;00m\n\u001b[0;32m     18\u001b[0m sender_socket\u001b[38;5;241m.\u001b[39mclose()\n",
      "\u001b[1;31mKeyboardInterrupt\u001b[0m: "
     ]
    }
   ],
   "source": [
    "import socket\n",
    "\n",
    "# Define the recipient's IP address and port\n",
    "recipient_ip = '127.0.1.2'  # Change to the IP of the other notebook\n",
    "recipient_port = 12345  # Change to an available port number\n",
    "\n",
    "# Create a UDP socket\n",
    "sender_socket = socket.socket(socket.AF_INET, socket.SOCK_DGRAM)\n",
    "\n",
    "# Define a message to send\n",
    "message = 'Hello, Notebook 5!'\n",
    "\n",
    "while True:\n",
    "# Send the message to the recipient\n",
    "    sender_socket.sendto(message.encode(), (recipient_ip, recipient_port))\n",
    "\n",
    "# Close the socket\n",
    "sender_socket.close()"
   ]
  },
  {
   "cell_type": "code",
   "execution_count": null,
   "id": "b68a50e5",
   "metadata": {},
   "outputs": [],
   "source": []
  }
 ],
 "metadata": {
  "kernelspec": {
   "display_name": "Python 3 (ipykernel)",
   "language": "python",
   "name": "python3"
  },
  "language_info": {
   "codemirror_mode": {
    "name": "ipython",
    "version": 3
   },
   "file_extension": ".py",
   "mimetype": "text/x-python",
   "name": "python",
   "nbconvert_exporter": "python",
   "pygments_lexer": "ipython3",
   "version": "3.11.5"
  }
 },
 "nbformat": 4,
 "nbformat_minor": 5
}
