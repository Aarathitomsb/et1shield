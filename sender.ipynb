{
 "cells": [
  {
   "cell_type": "code",
   "execution_count": 2,
   "id": "1df7aa17",
   "metadata": {},
   "outputs": [
    {
     "ename": "KeyboardInterrupt",
     "evalue": "",
     "output_type": "error",
     "traceback": [
      "\u001b[1;31m---------------------------------------------------------------------------\u001b[0m",
      "\u001b[1;31mKeyboardInterrupt\u001b[0m                         Traceback (most recent call last)",
      "Cell \u001b[1;32mIn[2], line 15\u001b[0m\n\u001b[0;32m     11\u001b[0m message \u001b[38;5;241m=\u001b[39m \u001b[38;5;124m'\u001b[39m\u001b[38;5;124mHello, Notebook 5!\u001b[39m\u001b[38;5;124m'\u001b[39m\n\u001b[0;32m     13\u001b[0m \u001b[38;5;28;01mwhile\u001b[39;00m \u001b[38;5;28;01mTrue\u001b[39;00m:\n\u001b[0;32m     14\u001b[0m \u001b[38;5;66;03m# Send the message to the recipient\u001b[39;00m\n\u001b[1;32m---> 15\u001b[0m     sender_socket\u001b[38;5;241m.\u001b[39msendto(message\u001b[38;5;241m.\u001b[39mencode(), (recipient_ip, recipient_port))\n\u001b[0;32m     17\u001b[0m \u001b[38;5;66;03m# Close the socket\u001b[39;00m\n\u001b[0;32m     18\u001b[0m sender_socket\u001b[38;5;241m.\u001b[39mclose()\n",
      "\u001b[1;31mKeyboardInterrupt\u001b[0m: "
     ]
    }
   ],
   "source": [
    "import socket\n",
    "    \n",
    "import socket\n",
    "\n",
    "# Sender (client) code\n",
    "\n",
    "# Define the server (receiver) address and port\n",
    "server_address = ('localhost', 12345)\n",
    "\n",
    "# Create a UDP socket\n",
    "sender_socket = socket.socket(socket.AF_INET, socket.SOCK_DGRAM)\n",
    "\n",
    "# Message to be sent\n",
    "message = \"Hello, Receiver!\"\n",
    "\n",
    "# Send the message to the server\n",
    "sender_socket.sendto(message.encode(), server_address)\n",
    "\n",
    "# Close the socket\n",
    "sender_socket.close()"
   ]
  },
  {
   "cell_type": "code",
   "execution_count": null,
   "id": "b68a50e5",
   "metadata": {},
   "outputs": [],
   "source": [
    "import socket\n",
    "    \n",
    "def sender():\n",
    "    sender_ip = \"127.0.0.1\"\n",
    "    sender_port = 12345\n",
    "\n",
    "    receiver_ip = \"127.0.0.1\"\n",
    "    receiver_port = 12346\n",
    "\n",
    "    message = 'up, left'\n",
    "\n",
    "    # Create a UDP socket\n",
    "    sender_socket = socket.socket(socket.AF_INET, socket.SOCK_DGRAM)\n",
    "\n",
    "\n",
    "    # Send the message to the receiver\n",
    "    sender_socket.sendto(message.encode(), (receiver_ip, receiver_port))\n",
    "\n",
    "    # Wait for a response from the receiver\n",
    "    response, _ = sender_socket.recvfrom(1024)\n",
    "\n",
    "    print(f\"Received response from receiver: {response.decode()}\")\n",
    "\n",
    "\n",
    "sender()"
   ]
  }
 ],
 "metadata": {
  "kernelspec": {
   "display_name": "Python 3 (ipykernel)",
   "language": "python",
   "name": "python3"
  },
  "language_info": {
   "codemirror_mode": {
    "name": "ipython",
    "version": 3
   },
   "file_extension": ".py",
   "mimetype": "text/x-python",
   "name": "python",
   "nbconvert_exporter": "python",
   "pygments_lexer": "ipython3",
   "version": "3.11.5"
  }
 },
 "nbformat": 4,
 "nbformat_minor": 5
}
