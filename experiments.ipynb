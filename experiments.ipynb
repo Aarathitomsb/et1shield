{
 "cells": [
  {
   "cell_type": "markdown",
   "id": "7bd59f78",
   "metadata": {},
   "source": [
    "An extra experimentation was done, with respect to:\n",
    "    1) Loading an image from the folder\n",
    "    2) Rotating an image, and translated the image in the specified orientation\n",
    "\n",
    "However, there were limitations on using certain libraries on jupyter notebook which \n",
    "are ideal and specific for simulating ET1 shield movements."
   ]
  },
  {
   "cell_type": "code",
   "execution_count": null,
   "id": "6075de56",
   "metadata": {
    "vscode": {
     "languageId": "plaintext"
    }
   },
   "outputs": [],
   "source": [
    "from PIL import Image, ImageDraw\n",
    "import ipywidgets as widgets\n",
    "from IPython.display import display, clear_output\n",
    "import math\n",
    "\n",
    "# Load your image (replace 'path/to/your/image.jpg' with the actual path to your image)\n",
    "image_path = 'Images/car.png'\n",
    "original_image = Image.open(image_path)\n",
    "\n",
    "# Initial dimensions and position\n",
    "image_width, image_height = 40, 60\n",
    "initial_rotation_angle, initial_translation = 0, 0\n",
    "\n",
    "# Resize the image\n",
    "resized_image = original_image.resize((image_width, image_height))\n",
    "\n",
    "# Function to display the rotated and translated image\n",
    "def update_canvas(rotation_angle, translation):\n",
    "    clear_output(wait=True)\n",
    "    \n",
    "    # Create a blank canvas\n",
    "    updated_canvas = Image.new('RGB', (400, 400), 'white')\n",
    "    #draw = ImageDraw.Draw(updated_canvas)\n",
    "    \n",
    "    # Rotate the image\n",
    "    rotated_image = resized_image.rotate(rotation_angle, resample=Image.BICUBIC, center=(resized_image.width // 2, resized_image.height // 2), expand=True)\n",
    "    \n",
    "    # Translate the image\n",
    "    translation_x = translation * math.cos(math.radians(rotation_angle))\n",
    "    translation_y = translation * math.sin(math.radians(rotation_angle))\n",
    "    \n",
    "    # Paste the rotated and translated image onto the canvas\n",
    "    updated_canvas.paste(rotated_image, (200 - rotated_image.width // 2 + int(translation_x), 200 - rotated_image.height // 2 + int(translation_y)), rotated_image)\n",
    "    \n",
    "    # Display the updated canvas\n",
    "    display(updated_canvas)\n",
    "\n",
    "# Set up interactive sliders for rotation angle and translation\n",
    "rotation_angle_slider = widgets.FloatSlider(min=0, max=360, step=1, value=initial_rotation_angle, description='Rotation Angle:')\n",
    "translation_slider = widgets.FloatSlider(min=-100, max=100, step=0.1, value=initial_translation, description='Translation:')\n",
    "\n",
    "# Create an interactive widget\n",
    "interactive_update_image = widgets.interactive(\n",
    "    update_canvas,\n",
    "    rotation_angle=rotation_angle_slider,\n",
    "    translation=translation_slider\n",
    ")\n",
    "\n",
    "# Display the interactive sliders\n",
    "display(rotation_angle_slider)\n",
    "display(translation_slider)\n",
    "\n",
    "# Display the initial canvas with the rotated and translated image\n",
    "update_canvas(initial_rotation_angle, initial_translation)\n",
    "\n",
    "# Run the interactive widget\n",
    "interactive_update_image"
   ]
  }
 ],
 "metadata": {
  "kernelspec": {
   "display_name": "Python 3 (ipykernel)",
   "language": "python",
   "name": "python3"
  },
  "language_info": {
   "codemirror_mode": {
    "name": "ipython",
    "version": 3
   },
   "file_extension": ".py",
   "mimetype": "text/x-python",
   "name": "python",
   "nbconvert_exporter": "python",
   "pygments_lexer": "ipython3",
   "version": "3.11.5"
  }
 },
 "nbformat": 4,
 "nbformat_minor": 5
}
