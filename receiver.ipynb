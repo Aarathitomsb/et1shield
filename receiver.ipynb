{
 "cells": [
  {
   "cell_type": "markdown",
   "id": "69aa8a21",
   "metadata": {},
   "source": [
    "Hello! Welcome to a tutorial on python. The goals of the tutorial will be:\n",
    "1) An application to using pre-defined python libraries and functions -\n",
    "To draw images and display the output\n",
    "2) Using classes and instantiation in python\n",
    "\n",
    "Scenario A: 2D basic simulation of the ET1 shield "
   ]
  },
  {
   "cell_type": "markdown",
   "id": "abd7eceb",
   "metadata": {},
   "source": [
    "Lets get started! \n",
    "\n",
    "\n",
    "On Jupyter notebook we can draw a canvas or surface representing the boundary region. One can then paste an image or shape on the canvas by specifying the coordinates."
   ]
  },
  {
   "cell_type": "markdown",
   "id": "5400f0d6",
   "metadata": {},
   "source": [
    "As you can see in the requirements.txt file, the required libraries to be installed are mentioned. mybinder takes care of preparing the environment and installing the required libraries. "
   ]
  },
  {
   "cell_type": "markdown",
   "id": "08e6c704",
   "metadata": {},
   "source": [
    "In any python file, even though installed we need to import certain libraries. "
   ]
  },
  {
   "cell_type": "code",
   "execution_count": null,
   "id": "0488b0eb",
   "metadata": {},
   "outputs": [],
   "source": [
    "import socket\n",
    "from PIL import Image, ImageDraw\n",
    "import ipywidgets as widgets\n",
    "from IPython.display import display, clear_output\n",
    "import math\n",
    "import time"
   ]
  },
  {
   "cell_type": "code",
   "execution_count": null,
   "id": "e54bb635",
   "metadata": {},
   "outputs": [],
   "source": [
    "canvas_width = 900\n",
    "canvas_height = 500\n",
    "canvas = Image.new(\"RGB\", (canvas_width, canvas_height), \"black\")\n",
    "draw = ImageDraw.Draw(canvas)\n",
    "display(canvas)"
   ]
  },
  {
   "cell_type": "markdown",
   "id": "e76fbf47",
   "metadata": {},
   "source": [
    "Let us now draw a square shape with length 40 on the canvas "
   ]
  },
  {
   "cell_type": "code",
   "execution_count": null,
   "id": "2fc34e45",
   "metadata": {},
   "outputs": [],
   "source": [
    "draw.rectangle([(0,0),(40, 40)], fill=\"blue\")        \n",
    "display(canvas)"
   ]
  },
  {
   "cell_type": "markdown",
   "id": "8a2c84f9",
   "metadata": {},
   "source": [
    "We can draw the square shape on any part of the canvas if we specify the top left and top right coordinates in a tuple [(x0,y0), (x1, y1)].\n",
    "\n",
    "a function can be written to receive input using ipywidgets of the top left coordinate and thus we can draw the square."
   ]
  },
  {
   "cell_type": "code",
   "execution_count": null,
   "id": "77cf7b9f",
   "metadata": {},
   "outputs": [],
   "source": [
    "\n",
    "# Create a FloatText widget for user input\n",
    "input_widget = FloatText(description='Enter a value:')\n",
    "\n",
    "# Create an Output widget to display the result\n",
    "output_widget = Output()\n",
    "\n",
    "# Function to handle the input change\n",
    "def draw_square(change):\n",
    "    user_input = input_widget.value   \n",
    "    clear_output(wait=True)\n",
    "    canvas_width = 900\n",
    "    canvas_height = 500\n",
    "    canvas = Image.new(\"RGB\", (canvas_width, canvas_height), \"black\")\n",
    "    draw = ImageDraw.Draw(canvas)\n",
    "    display(canvas)\n",
    "    with output_widget:\n",
    "        output_widget.clear_output()\n",
    "        draw.rectangle([(user_input,user_input),(user_input+40, user_input+40)], fill=\"blue\")        \n",
    "        display(canvas)\n",
    "\n",
    "# Attach the function to the input widget's 'value' trait\n",
    "input_widget.observe(draw_square, names='value')\n",
    "\n",
    "# Display the widgets\n",
    "VBox([input_widget, output_widget])"
   ]
  },
  {
   "cell_type": "markdown",
   "id": "6562b065",
   "metadata": {},
   "source": [
    "Classes:\n",
    "\n",
    "A class is a blueprint or a template for creating objects. It defines a set of attributes (data members) and methods (functions) that the objects created from the class will have.\n",
    "\n",
    "Thus we can create a square image, which has a default definition of the environment. Consider the case of the ET1 shield. If we want to control its movement in a room, we need to know the dimension of the room it is placed. We also need to know the objects starting location. We can also define what kind of movements the ET1 shield is capable of. In this jupyter notebook we consider four movements up, down, left and right.\n",
    "\n",
    "Instances: An instance is an individual object created from a particular class. It represents a specific realization of the attributes and behaviors defined in the class. An instance has also characteristics of the ET1shield. The trick we will use here is to keep a track of the ET1shield's top left coordinate, so that we can move the ET1shield as we like at any time. \n",
    "\n"
   ]
  },
  {
   "cell_type": "code",
   "execution_count": null,
   "id": "520f550e",
   "metadata": {},
   "outputs": [],
   "source": [
    "class Abstractcar:\n",
    "    def __init__(self, x, y, image_width):\n",
    "        self.image = image_width\n",
    "        self.x = x\n",
    "        self.y = y\n",
    "        self.canvas_width = 900\n",
    "        self.canvas_height = 500\n",
    "\n",
    "    def draw_rectangle(self):\n",
    "        canvas = Image.new(\"RGB\", (self.canvas_width, self.canvas_height), \"white\")\n",
    "        draw = ImageDraw.Draw(canvas)\n",
    "        draw.rectangle([(self.x, self.y), (self.x + self.image, self.y + self.image)], fill=\"blue\")        \n",
    "        display(canvas)\n",
    "        \n",
    "    def move_right(self):\n",
    "        clear_output(wait=True)\n",
    "        self.x += 0.8\n",
    "        self.draw_rectangle()\n",
    "        \n",
    "    def move_left(self):\n",
    "        clear_output(wait=True)\n",
    "        self.x -= 0.8\n",
    "        self.draw_rectangle()\n",
    "    \n",
    "    def move_up(self):\n",
    "        clear_output(wait=True)\n",
    "        self.y -= 0.8\n",
    "        self.draw_rectangle()\n",
    "        \n",
    "    def move_down(self):\n",
    "        clear_output(wait=True)\n",
    "        self.y += 0.8\n",
    "        self.draw_rectangle()"
   ]
  },
  {
   "cell_type": "markdown",
   "id": "0063296d",
   "metadata": {},
   "source": [
    "A class is now defined called Abstractcar. For every instance we create we can define the starting position x and y coordinates and the square length. We can now create an instance and access the draw_rectangle function to display the image on the canvas."
   ]
  },
  {
   "cell_type": "code",
   "execution_count": null,
   "id": "e0eb4991",
   "metadata": {},
   "outputs": [],
   "source": [
    "car = Abstractcar(430, 230, 40)\n",
    "car.draw_rectangle()"
   ]
  },
  {
   "cell_type": "code",
   "execution_count": null,
   "id": "254c801a",
   "metadata": {},
   "outputs": [],
   "source": [
    "movement=0\n",
    "while(movement<200):\n",
    "    car.move_right()\n",
    "    movement+=1"
   ]
  },
  {
   "cell_type": "markdown",
   "id": "d1a66e71",
   "metadata": {},
   "source": [
    "Can you figure out the methods to increase the movement further in the right direction. Also, is there a way to modify the code to move in other directions?"
   ]
  },
  {
   "cell_type": "markdown",
   "id": "ff0eb785",
   "metadata": {},
   "source": [
    "Answer:\n"
   ]
  },
  {
   "cell_type": "code",
   "execution_count": null,
   "id": "3c680879",
   "metadata": {},
   "outputs": [],
   "source": [
    "movement=0\n",
    "while(movement<500):\n",
    "    car.move_right()\n",
    "    movement+=1"
   ]
  },
  {
   "cell_type": "markdown",
   "id": "d61bee7f",
   "metadata": {},
   "source": [
    "We can increase the movement by increasing the limit of the while loop"
   ]
  },
  {
   "cell_type": "code",
   "execution_count": null,
   "id": "719c4ed5",
   "metadata": {},
   "outputs": [],
   "source": [
    "movement=0\n",
    "while(movement<200):\n",
    "    car.move_left()\n",
    "    movement+=1"
   ]
  },
  {
   "cell_type": "markdown",
   "id": "50278633",
   "metadata": {},
   "source": [
    "Accessing the other functions defined in the class, we can change the direction of movement."
   ]
  },
  {
   "cell_type": "markdown",
   "id": "abe786a7",
   "metadata": {},
   "source": [
    "So, now we have understood how we can move the ET1 shield(square image) in the room(canvas) in different directions.\n",
    "\n",
    "The ET1 shield found in the lab is controlled by a RaspberryPi. We access the Raspberry Pi via our laptops(on the Raspberry Pi's network) to run python programs on RPi.\n",
    "There is a communication between the laptop and the Raspberry Pi. We shall simulate this in a slightly different way.\n",
    "\n",
    "We can communicate between two different python instances using UDP sockets. One instance being the sender, sending the commands on direction of movement, and the receiver, receiving \n",
    "the directions and displaying the movement on the canvas. \n",
    "\n",
    "To observe the sender-receiver communication, \n",
    "1)Launch the sender.ipynb in the folder and run the first snippet.\n",
    "2)Launch the receiver.ipynb snippet below\n",
    "Observe the output and note your observations. "
   ]
  },
  {
   "cell_type": "code",
   "execution_count": null,
   "id": "9e4e9743",
   "metadata": {},
   "outputs": [],
   "source": [
    "import socket\n",
    "\n",
    "# Define the receiver's IP address and port\n",
    "receiver_ip = '127.0.1.2'  # Change to the IP of this notebook\n",
    "receiver_port = 12345  # Should match the port used in the sender notebook\n",
    "\n",
    "# Create a UDP socket\n",
    "receiver_socket = socket.socket(socket.AF_INET, socket.SOCK_DGRAM)\n",
    "\n",
    "# Bind the socket to the specified IP and port\n",
    "receiver_socket.bind((receiver_ip, receiver_port))\n",
    "\n",
    "# Receive data from the sender\n",
    "data, sender_address = receiver_socket.recvfrom(1024)  # 1024 is the buffer size\n",
    "\n",
    "# Decode and print the received message\n",
    "print(f\"Received message from {sender_address}: {data.decode()}\")\n",
    "\n",
    "# Close the socket\n",
    "receiver_socket.close()\n",
    "\n",
    "print(data.decode())"
   ]
  },
  {
   "attachments": {
    "image.png": {
     "image/png": "[encoded data removed]"
    }
   },
   "cell_type": "markdown",
   "id": "4fd467de",
   "metadata": {},
   "source": [
    "![image.png](attachment:image.png)"
   ]
  },
  {
   "cell_type": "markdown",
   "id": "516beb59",
   "metadata": {},
   "source": [
    "Let us now combine the two; the transfer of communication and displaying the movement of ET1 shield into the snippet"
   ]
  },
  {
   "cell_type": "code",
   "execution_count": null,
   "id": "afb9567b",
   "metadata": {},
   "outputs": [],
   "source": [
    "import socket\n",
    "from PIL import Image, ImageDraw\n",
    "import ipywidgets as widgets\n",
    "from IPython.display import display, clear_output\n",
    "import math\n",
    "import time\n",
    "\n",
    "class Abstractcar:\n",
    "    def __init__(self, x, y, image_width):\n",
    "        self.image = image_width\n",
    "        self.x = x\n",
    "        self.y = y\n",
    "        self.canvas_width = 900\n",
    "        self.canvas_height = 500\n",
    "\n",
    "    def draw_rectangle(self):\n",
    "        canvas = Image.new(\"RGB\", (self.canvas_width, self.canvas_height), \"white\")\n",
    "        draw = ImageDraw.Draw(canvas)\n",
    "        draw.rectangle([(self.x, self.y), (self.x + self.image, self.y + self.image)], fill=\"blue\")        \n",
    "        display(canvas)\n",
    "        \n",
    "    def move_right(self):\n",
    "        move = 0\n",
    "        while(move < 200):\n",
    "            clear_output(wait=True)\n",
    "            self.x += 0.8\n",
    "            self.draw_rectangle()\n",
    "            move+=1\n",
    "            \n",
    "    def move_left(self):\n",
    "        move = 0\n",
    "        while(move < 200):\n",
    "            clear_output(wait=True)\n",
    "            self.x -= 0.8\n",
    "            self.draw_rectangle()\n",
    "            move+=1\n",
    "    \n",
    "    def move_up(self):\n",
    "        move = 0\n",
    "        while(move < 200):\n",
    "            clear_output(wait=True)\n",
    "            self.y -= 0.8\n",
    "            self.draw_rectangle()\n",
    "            move+=1\n",
    "        \n",
    "    def move_down(self):\n",
    "        move = 0\n",
    "        while(move < 200):\n",
    "            clear_output(wait=True)\n",
    "            self.y += 0.8\n",
    "            self.draw_rectangle()        \n",
    "            move+=1\n",
    "            \n",
    "    def receiver(self):\n",
    "        receiver_ip = \"127.0.0.1\"\n",
    "        receiver_port = 12346\n",
    "\n",
    "        sender_ip = \"127.0.0.1\"\n",
    "        sender_port = 12345\n",
    "\n",
    "        # Create a UDP socket\n",
    "        receiver_socket = socket.socket(socket.AF_INET, socket.SOCK_DGRAM)\n",
    "\n",
    "        # Bind the socket to the receiver's address\n",
    "        receiver_socket.bind((receiver_ip, receiver_port))\n",
    "\n",
    "        while True:\n",
    "            # Receive a message from the sender\n",
    "            self.message, sender_address = receiver_socket.recvfrom(1024)\n",
    "            print(f\"Received message from sender: {self.message.decode()}\")\n",
    "\n",
    "            # Send a response back to the sender\n",
    "            response_message = 'Received your message!'\n",
    "            receiver_socket.sendto(response_message.encode(), sender_address)\n",
    "            break;\n",
    "\n",
    "car = Abstractcar(430, 230, 40)\n",
    "car.draw_rectangle()\n",
    "\n",
    "\n",
    "\n",
    "car.receiver()\n",
    "full_message = car.message.decode()\n",
    "elements = full_message.split(', ')\n",
    "print(elements)\n",
    "\n",
    "# Process each element\n",
    "for element in elements:\n",
    "    if element == \"up\":\n",
    "        car.move_up()\n",
    "        print(\"Move Up\")\n",
    "        print(elements)\n",
    "    elif element == \"down\":\n",
    "        car.move_down()\n",
    "        print(\"Move Down\")\n",
    "        print(elements)\n",
    "    elif element == \"left\":\n",
    "        car.move_left()\n",
    "        print(\"Move Left\")\n",
    "        print(elements)\n",
    "    elif element == \"right\":\n",
    "        car.move_right()\n",
    "        print(\"Move Right\")\n",
    "        print(elements)\n",
    "    else:\n",
    "        print(\"Unknown command\")"
   ]
  },
  {
   "cell_type": "code",
   "execution_count": null,
   "id": "f1d32fa3",
   "metadata": {},
   "outputs": [],
   "source": []
  }
 ],
 "metadata": {
  "kernelspec": {
   "display_name": "Python 3 (ipykernel)",
   "language": "python",
   "name": "python3"
  },
  "language_info": {
   "codemirror_mode": {
    "name": "ipython",
    "version": 3
   },
   "file_extension": ".py",
   "mimetype": "text/x-python",
   "name": "python",
   "nbconvert_exporter": "python",
   "pygments_lexer": "ipython3",
   "version": "3.11.5"
  }
 },
 "nbformat": 4,
 "nbformat_minor": 5
}
