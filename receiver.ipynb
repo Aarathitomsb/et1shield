{
 "cells": [
  {
   "cell_type": "code",
   "execution_count": 2,
   "id": "d7a07423",
   "metadata": {},
   "outputs": [
    {
     "name": "stdout",
     "output_type": "stream",
     "text": [
      "Received message from ('127.0.0.1', 59599): Hello, Notebook 5!\n"
     ]
    }
   ],
   "source": [
    "import socket\n",
    "\n",
    "# Define the receiver's IP address and port\n",
    "receiver_ip = '127.0.1.2'  # Change to the IP of this notebook\n",
    "receiver_port = 12345  # Should match the port used in the sender notebook\n",
    "\n",
    "# Create a UDP socket\n",
    "receiver_socket = socket.socket(socket.AF_INET, socket.SOCK_DGRAM)\n",
    "\n",
    "# Bind the socket to the specified IP and port\n",
    "receiver_socket.bind((receiver_ip, receiver_port))\n",
    "\n",
    "# Receive data from the sender\n",
    "data, sender_address = receiver_socket.recvfrom(1024)  # 1024 is the buffer size\n",
    "\n",
    "# Decode and print the received message\n",
    "print(f\"Received message from {sender_address}: {data.decode()}\")\n",
    "\n",
    "# Close the socket\n",
    "receiver_socket.close()\n",
    "\n",
    "\n",
    "\n"
   ]
  },
  {
   "cell_type": "code",
   "execution_count": null,
   "id": "f1d32fa3",
   "metadata": {},
   "outputs": [],
   "source": []
  }
 ],
 "metadata": {
  "kernelspec": {
   "display_name": "Python 3 (ipykernel)",
   "language": "python",
   "name": "python3"
  },
  "language_info": {
   "codemirror_mode": {
    "name": "ipython",
    "version": 3
   },
   "file_extension": ".py",
   "mimetype": "text/x-python",
   "name": "python",
   "nbconvert_exporter": "python",
   "pygments_lexer": "ipython3",
   "version": "3.11.5"
  }
 },
 "nbformat": 4,
 "nbformat_minor": 5
}
